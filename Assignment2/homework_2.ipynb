{
 "cells": [
  {
   "cell_type": "markdown",
   "metadata": {},
   "source": [
    "# CS585 Homework 2: Word2Vec"
   ]
  },
  {
   "cell_type": "markdown",
   "metadata": {},
   "source": [
    "#### This is due on October 12, 2018, submitted electronically. 100 points total.\n",
    "\n",
    "In this homework, you will complete the following tasks: \n",
    "1. implement the objective function and parameter updates for word2vec's skipgram with negative sampling (SGNS) algorithm. \n",
    "2. answer questions about the training process and produce a visualization of some pretrained word embeddings\n",
    "\n",
    "##### How to do this problem set:\n",
    "\n",
    "- What version of Python should I use? Either Python 2 or 3 should work\n",
    "\n",
    "- Most of these questions require writing Python code and computing results, and the rest of them have textual answers. To generate the answers, you will have to fill out a supporting file, `word2vec.py`.\n",
    "\n",
    "- For all of the textual answers you have to fill out have placeholder text which says \"Write your answer here\" For each question, you need to replace \"Write your answer here\" with your answer.\n",
    "\n",
    "- Write all the answers in this ipython notebook. Once you are finished (1) Generate a PDF via (File -> Download As -> PDF) and upload to Gradescope (2) Turn in `word2vec.py` and `homework_2.ipynb` on Moodle.\n",
    "  \n",
    "- **Important** check your PDF before you turn it in to gradescope to make sure it exported correctly. If ipython notebook gets confused about your syntax it will sometimes terminate the PDF creation routine early. If your whole PDF does not print, try running `$jupyter nbconvert --to pdf 2018hw2.ipynb` to identify and fix any syntax errors that might be causing problems\n",
    "\n",
    "- When creating your final version of the PDF to hand in, please do a fresh restart and execute every cell in order. Then you'll be sure it's actually right. One handy way to do this is by clicking `Cell -> Run All` in the notebook menu.\n",
    " \n",
    "- This assignment is designed so that you can run all cells in a few minutes of computation time. If it is taking longer than that, you probably have made a mistake in your code."
   ]
  },
  {
   "cell_type": "markdown",
   "metadata": {},
   "source": [
    "##### Academic honesty \n",
    "\n",
    "- We will audit the Moodle code from a set number of students, chosen at random. The audits will check that the code you wrote and turned on Moodle generates the answers you turn in on your PDF. If you turn in correct answers on your PDF without code that actually generates those answers, we will consider this a serious case of cheating. See the course page for honesty policies.\n",
    "\n",
    "- We will also run automatic checks of code on Moodle for plagiarism. Copying code from others is also considered a serious case of cheating."
   ]
  },
  {
   "cell_type": "markdown",
   "metadata": {},
   "source": [
    "## Part 1: toy word2vec (65 points)\n",
    "\n",
    "Our first task will be to implement SGNS. We'll be working with a small \"toy\" dataset to ensure that your model works properly before moving on to real text. To start, run the cell below to set up the toy task."
   ]
  },
  {
   "cell_type": "code",
   "execution_count": 1,
   "metadata": {},
   "outputs": [
    {
     "name": "stdout",
     "output_type": "stream",
     "text": [
      "(10, 5) (10, 5)\n"
     ]
    }
   ],
   "source": [
    "# Some more magic so that the notebook will reload external python modules;\n",
    "# see http://stackoverflow.com/questions/1907993/autoreload-of-modules-in-ipython\n",
    "%load_ext autoreload\n",
    "%autoreload 2\n",
    "\n",
    "from __future__ import print_function\n",
    "from word2vec import *\n",
    "import numpy as np\n",
    "\n",
    "# first task: develop a working word2vec model on a toy dataset\n",
    "\n",
    "# we'll set some simple model hyperparameters...\n",
    "dim = 5 # dimensionality of word vectors\n",
    "window_size = 4 # how many total surrounding words to include in context\n",
    "vocab_size = 10 # number of word types in vocab\n",
    "vocab = range(vocab_size) # small vocab for developing our model\n",
    "\n",
    "# now let's initialize our word embedding matrices\n",
    "W,C = init_parameters(dim, vocab_size)\n",
    "print(W.shape, C.shape)"
   ]
  },
  {
   "cell_type": "markdown",
   "metadata": {},
   "source": [
    "### Question 1.1 (5 pts):\n",
    "What does each row of W represent? What about each column?\n",
    "\n",
    "\n",
    "**Each row represent word embedding of corresponding word of vocabulary, each column represents different value of a specific feature for different words of vocabulary**"
   ]
  },
  {
   "cell_type": "markdown",
   "metadata": {},
   "source": [
    "### Question 1.2 (15 pts): \n",
    "The *compute_obj_and_grad* function in *word2vec.py* partially implements the SGNS objective function for a single (target word, context word) pair: $L = \\log P(+ | t,c) + \\sum_{i=0}^k \\log P(- |t, n_i)$. \n",
    "\n",
    "You will complete this function by filling in the *compute_pos_prob* and *compute_neg_prob* functions. Specifically, *compute_pos_prob* should compute $P(+ | t,c)$ for a target word vector $t$ and a context word vector $c$, while *compute_neg_prob* should compute $P(- |t, n_i)$ for a negative sample word vector $n_i$ and $c$. \n",
    "\n",
    "***IMPORTANT:*** Please do not implement your own sigmoid function! word2vec.py imports scipy's sigmoid function, which you can use simply by typing *sigmoid*, as in ```x = sigmoid(5)```\n",
    "\n",
    "If you did it correctly, running the cell below will give you a \"congratulations\" message."
   ]
  },
  {
   "cell_type": "code",
   "execution_count": 2,
   "metadata": {},
   "outputs": [
    {
     "name": "stdout",
     "output_type": "stream",
     "text": [
      "running loss check...\n",
      "congratulations! you've successfully implemented the SGNS objective.\n"
     ]
    }
   ],
   "source": [
    "obj_check(compute_obj_and_grad, dim, vocab_size)"
   ]
  },
  {
   "cell_type": "markdown",
   "metadata": {},
   "source": [
    "### Question 1.3 (5 pts):\n",
    "Take a look at the *dW* and *dC* variables in the *compute_obj_and_grad* function, which will eventually contain $\\frac{\\partial L}{\\partial{W}}$ and $\\frac{\\partial L}{\\partial{C}}$, respectively. They are matrices of the same size as W and C. What should each row of *dW* contain? What about each row of *dC*? \n",
    "\n",
    "**Each row of *dW* contain gradient of objective function with respect to corresponding target word and each row of *dC* contain gradient of objective function with respect to corresponding context word embedding (gradient represents direction)**"
   ]
  },
  {
   "cell_type": "markdown",
   "metadata": {},
   "source": [
    "### Question 1.4 (40 pts): \n",
    "Implement the gradient of the SGNS objective by properly updating the *dW* and *dC* variables in the *compute_obj_and_grad* function. You'll need to compute four different partial derivatives, each of which is marked by \"IMPLEMENT ME\" in the code:\n",
    "1. derivative of the log P(+ | t, c) term of L WRT target word vector t\n",
    "2. derivative of the log P(+ | t, c) term of L WRT context word vector c\n",
    "3. derivative of the log P(- | t, n_i) term of L WRT target word vector t\n",
    "4. derivative of the log P(- | t, n_i) term of L WRT context word vector n_i\n",
    "\n",
    "If you do it correctly, you will see a \"congratulations\" message after running the next cell.\n",
    "\n",
    "***Hint:*** You may find it convenient to reuse the *pos_prob* and *neg_prob* variables in your derivative computations!"
   ]
  },
  {
   "cell_type": "code",
   "execution_count": 3,
   "metadata": {
    "scrolled": false
   },
   "outputs": [
    {
     "name": "stdout",
     "output_type": "stream",
     "text": [
      "running gradient check...\n",
      "congratulations! you've successfully implemented the SGNS gradient.\n"
     ]
    }
   ],
   "source": [
    "'''\n",
    "performs a gradient check using a finite differences approximation \n",
    "(if interested, see https://en.wikipedia.org/wiki/Finite_difference). \n",
    "the function feeds target word 3 and context word 9 as inputs, and \n",
    "computes the gradient using words [4,3,2,2] as negative samples. \n",
    "if there are any errors in your code, the function will print out which\n",
    "target and context word derivatives were improperly computed.\n",
    "''' \n",
    "gradient_check(compute_obj_and_grad, W, C, dim, vocab_size)\n"
   ]
  },
  {
   "cell_type": "markdown",
   "metadata": {},
   "source": [
    "## Part 2: visualizing word2vec (35 pts)\n",
    "\n",
    "Now that we have a working SGNS algorithm, we'll first take a look at the training process before moving on to evaluating some pretrained embeddings. Run the next cell to read in a small subset of Wikipedia and reset the model hyperparameters:"
   ]
  },
  {
   "cell_type": "code",
   "execution_count": 4,
   "metadata": {},
   "outputs": [
    {
     "name": "stdout",
     "output_type": "stream",
     "text": [
      "(52754, 25) (52754, 25) 1000000\n"
     ]
    }
   ],
   "source": [
    "# read in the small data file\n",
    "data_file = 'small_text8'\n",
    "num_epochs = 3 # number of passes through the dataset to make\n",
    "text, vocab, sampling_dist = compute_vocab(data_file) \n",
    "idx_to_w = dict((v,k) for (k,v) in vocab.items()) # useful for eval / debugging; if you are using Python2, replace vocab.items() by vocab.iteritems()\n",
    "\n",
    "# onto some real-world model hyperparameters...\n",
    "dim = 25 # dimensionality of word vectors\n",
    "window_size = 4 # how many total surrounding words to include in context\n",
    "vocab_size = len(vocab) # number of word types in vocab\n",
    "\n",
    "W, C = init_parameters(dim, vocab_size) # new embeddings\n",
    "print(W.shape, C.shape, len(text))"
   ]
  },
  {
   "cell_type": "markdown",
   "metadata": {},
   "source": [
    "### Question 2.1 (5 pts):\n",
    "You should see that W and C are both of shape (52754, 25), while the *text* variable contains 1000000 tokens from Wikipedia. Now, let's analyze the *sampling_dist* variable, which is a list of words from which negative samples are drawn. Write some code below to print out the top 20 most frequently occurring words in *sampling_dist*. Use the *idx_to_w* dictionary to map from indices to words."
   ]
  },
  {
   "cell_type": "code",
   "execution_count": 5,
   "metadata": {
    "scrolled": false
   },
   "outputs": [
    {
     "name": "stdout",
     "output_type": "stream",
     "text": [
      "word:  the     freq:  3968\n",
      "word:  of     freq:  2656\n",
      "word:  and     freq:  2002\n",
      "word:  one     freq:  1968\n",
      "word:  in     freq:  1837\n",
      "word:  a     freq:  1593\n",
      "word:  to     freq:  1586\n",
      "word:  zero     freq:  1311\n",
      "word:  nine     freq:  1290\n",
      "word:  is     freq:  1080\n",
      "word:  two     freq:  1071\n",
      "word:  as     freq:  824\n",
      "word:  eight     freq:  822\n",
      "word:  three     freq:  769\n",
      "word:  was     freq:  756\n",
      "word:  by     freq:  748\n",
      "word:  five     freq:  736\n",
      "word:  s     freq:  732\n",
      "word:  that     freq:  727\n",
      "word:  for     freq:  719\n"
     ]
    }
   ],
   "source": [
    "# IMPLEMENT ME!\n",
    "freq_dict={}\n",
    "for index in sampling_dist:\n",
    "    if index not in freq_dict:\n",
    "        freq_dict[index]=1\n",
    "    else:\n",
    "        freq_dict[index]+=1\n",
    "for k in sorted(freq_dict, key=freq_dict.get, reverse=True)[0:20]:\n",
    "    print(\"word: \",idx_to_w[k],\"    freq: \", freq_dict[k])\n",
    "        "
   ]
  },
  {
   "cell_type": "markdown",
   "metadata": {},
   "source": [
    "### Question 2.2 (5 pts):\n",
    "Your list should be dominated by common words (e.g., \"the\", \"and\", \"of\"). Why is this expected? \n",
    "\n",
    "**Because they are stop words and the most frequent words in most corpuses. So in sampling, these words would be sampled more than others**"
   ]
  },
  {
   "cell_type": "markdown",
   "metadata": {},
   "source": [
    "### Question 2.3 (5 pts):\n",
    "Examine the *train* function in word2vec.py. Is it performing gradient ascent or descent? How can you tell? \n",
    "\n",
    "**Considering W += learning_rate * dW # update W and C += learning_rate * dC # update C we can find out that the embeddings are increasing so it is gradient ascent**"
   ]
  },
  {
   "cell_type": "markdown",
   "metadata": {},
   "source": [
    "Unfortunately, this implementation of SGNS is horribly slow and will take days to converge even on this tiny dataset :( Google's implementation is in highly-optimized C (https://github.com/dav/word2vec/blob/master/src/word2vec.c). Instead of making you train your own embeddings, we'll take a look at some pretrained word embeddings! Run the below cell to load 50-d GloVe embeddings for every word in our vocabulary. This should take a couple of seconds."
   ]
  },
  {
   "cell_type": "code",
   "execution_count": 6,
   "metadata": {},
   "outputs": [
    {
     "name": "stdout",
     "output_type": "stream",
     "text": [
      "loaded pretrained embeddings of shape (52754, 50)\n"
     ]
    }
   ],
   "source": [
    "W = load_embeddings('glove.6B.50d.txt', vocab, idx_to_w)\n",
    "print('loaded pretrained embeddings of shape %s' % repr(W.shape))"
   ]
  },
  {
   "cell_type": "markdown",
   "metadata": {},
   "source": [
    "### Question 2.4 (5 pts):\n",
    "Now let's examine the learned embeddings using nearest neighbors. We have provided you an efficient function that prints nearest neighbors using cosine distance. First run the below cell to identify the nearest neighbors of the words *baseball* and *bad*."
   ]
  },
  {
   "cell_type": "code",
   "execution_count": 7,
   "metadata": {},
   "outputs": [
    {
     "name": "stdout",
     "output_type": "stream",
     "text": [
      "baseball :\n",
      "basketball 0.8613374075133899\n",
      "nba 0.8525449364066786\n",
      "nfl 0.8311337584283502\n",
      "football 0.7990507449559057\n",
      "leagues 0.7907130952435445\n",
      "cowboys 0.7906256216634387\n",
      "hockey 0.7874407530957855\n",
      "yankees 0.7764779018352768\n",
      "yankee 0.7724197498247807\n",
      "\n",
      "bad :\n",
      "worse 0.8878378596399722\n",
      "unfortunately 0.8650500960769691\n",
      "too 0.8608258507491716\n",
      "really 0.8486315454065445\n",
      "little 0.8427671435087241\n",
      "bit 0.8359227625820689\n",
      "things 0.830611710077923\n",
      "nothing 0.8246172635059478\n",
      "gone 0.8238306951162727\n",
      "\n"
     ]
    }
   ],
   "source": [
    "nearest_neighbors('baseball', vocab, idx_to_w, W)\n",
    "nearest_neighbors('bad', vocab, idx_to_w, W)"
   ]
  },
  {
   "cell_type": "markdown",
   "metadata": {},
   "source": [
    "Now provide the part-of-speech tag(s) for each of the 10 nearest neighbors of *bad* using the Penn Treebank POS tagset (https://www.ling.upenn.edu/courses/Fall_2003/ling001/penn_treebank_pos.html). Additionally, which of *bad*'s nearest neighbors do you think shouldn't be in this list (if any)? Justify your answer. \n",
    "\n",
    "**worse:RBR, unfortunately:RB, too:RB, really:RB|UH ,little:RB|JJ|NN ,bit:NN|VVD|VVN things: NNS nothing:NN ,gone:VVN \n",
    "The words \"gone\" and \"things\" seems more non relevant to \"bad\" than other words. These two words do not co_occur with \"bad\" a lot. So, they shouldn't be in this list. The other words are semantically similar or co occur with \"bad\" many times such as: too bad, really bad. Worse, unfortunately, little, bit and nothing have negative sentiment (like \"bad\") so they also could be in this list.**"
   ]
  },
  {
   "cell_type": "markdown",
   "metadata": {},
   "source": [
    "### Question 2.5 (5 pts):\n",
    "Now we're going to visualize a subset of these word embeddings. First, we'll have to compute a 2-dimensional projection of the embeddings. Why do we need to perform this projection before visualizing the embeddings? \n",
    "\n",
    "**Because in visualization using matplotlib library, we are plotting the words in a two dimension space to see distances between them and the dimensionality of trained words is higher than 2 so that we can not visualize them in 2-d space. As a result, we should use some PCA kind of feature projection approaches to reduce dimensionality to represent words in 2-d space and compare them**"
   ]
  },
  {
   "cell_type": "markdown",
   "metadata": {},
   "source": [
    "### Question 2.6 (10 pts):\n",
    "Run the below cell to compute and visualize a 2-d projection of some words (stored in the *words_to_visualize* variable) using principal component analysis (if interested, see https://en.wikipedia.org/wiki/Principal_component_analysis). Make sure you have **matplotlib** installed!"
   ]
  },
  {
   "cell_type": "markdown",
   "metadata": {},
   "source": [
    "Your job is to play around with this function by choosing 15-20 different words to include in *words_to_visualize* and seeing if any meaningful clusters emerge in the resulting plot (or not!). After experimenting, pick one plot that demonstrates both *syntactic* and *semantic* similarity between words. Justify your choice by giving examples of each type of similarity from the plot.\n",
    "\n",
    "**As we can see sports,baseball,basketall,football are close to each other since they are semantically related to each other.\n",
    "Red, blue,beauty,ugly are all adjective and close to each other.\n",
    "The,and,of,a and that are close to each other since they are most frequent and non informative words they are also close to gone, done, been, seen (past participles)since both groups are frequent words.Cars, dogs and tables are all pallural noun and close to each other. Been is more close to frequent words than past participles which shows it is a very frequent past participle**"
   ]
  },
  {
   "cell_type": "code",
   "execution_count": 8,
   "metadata": {},
   "outputs": [
    {
     "data": {
      "image/png": "[encoded data removed]",
      "text/plain": [
       "<Figure size 432x288 with 1 Axes>"
      ]
     },
     "metadata": {
      "needs_background": "light"
     },
     "output_type": "display_data"
    }
   ],
   "source": [
    "%matplotlib inline\n",
    "import matplotlib.pyplot as plt\n",
    "from sklearn.decomposition import PCA\n",
    "words_to_visualize =['the', 'and', 'of', 'a', 'that',\n",
    "                     'sports','baseball','basketball','football',\n",
    "                     'red','blue','beauty','ugly',\n",
    "                    'gone','done','been','seen','cars','dogs','tables']\n",
    "\n",
    "                # ['movie', 'film','oscar', 'watch', 'popcorn', 'director','food','chips','eat',\n",
    "                #'the', 'and', 'of', 'what', 'that', 'baseball',\n",
    "                #'mlb', 'nfl', 'sports', 'basketball','ball','football','video','watch','tv','play']\n",
    "vecs = []\n",
    "for w in words_to_visualize:\n",
    "    try:\n",
    "        vecs.append(W[vocab[w]])\n",
    "    except:\n",
    "        print('%s does not exist in vocabulary :(' % w)    \n",
    "    \n",
    "small_W = np.array(vecs)\n",
    "W_proj = PCA(n_components=2).fit_transform(small_W) # apply t-SNE\n",
    "\n",
    "x = W_proj[:, 0] # first dimension\n",
    "y = W_proj[:, 1] # second dimension\n",
    "\n",
    "# plot the projected embeddings\n",
    "plt.scatter(x, y)\n",
    "plt.title('Word embeddings')\n",
    "\n",
    "# set up axes to show all words \n",
    "plt.xlim(x.min()-0.5, x.max()+0.5)\n",
    "plt.ylim(y.min()-0.5, y.max()+0.5)\n",
    "\n",
    "# put text markers on plot\n",
    "for w, x, y in zip(words_to_visualize, x, y):\n",
    "        plt.annotate(w, xy=(x, y), xytext=(0, 0), textcoords='offset points')\n",
    "    \n"
   ]
  }
 ],
 "metadata": {
  "kernelspec": {
   "display_name": "Python 3",
   "language": "python",
   "name": "python3"
  },
  "language_info": {
   "codemirror_mode": {
    "name": "ipython",
    "version": 3
   },
   "file_extension": ".py",
   "mimetype": "text/x-python",
   "name": "python",
   "nbconvert_exporter": "python",
   "pygments_lexer": "ipython3",
   "version": "3.6.6"
  }
 },
 "nbformat": 4,
 "nbformat_minor": 2
}
